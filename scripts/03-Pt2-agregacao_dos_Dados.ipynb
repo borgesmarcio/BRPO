{
 "cells": [
  {
   "cell_type": "markdown",
   "id": "21306f87",
   "metadata": {},
   "source": [
    "## Descrição do Notebook"
   ]
  },
  {
   "cell_type": "markdown",
   "id": "6fa94455",
   "metadata": {},
   "source": [
    "Neste notebook, os dados foram agregados por semana e as regras aplicadas estão descritas ao decorrer do código."
   ]
  },
  {
   "cell_type": "code",
   "execution_count": 4,
   "id": "a56690d3",
   "metadata": {},
   "outputs": [],
   "source": [
    "import pandas as pd \n",
    "import numpy as np\n",
    "import xlrd\n",
    "import matplotlib.pyplot as plt\n"
   ]
  },
  {
   "cell_type": "markdown",
   "id": "34e4e9b6",
   "metadata": {},
   "source": [
    "### Lendo o arquivo e informando que a tabela DATA_TRAT. é do tipo datetime"
   ]
  },
  {
   "cell_type": "code",
   "execution_count": 75,
   "id": "5128504a",
   "metadata": {},
   "outputs": [],
   "source": [
    "df = pd.read_csv(\"../datasets/df_rpo_v3.csv\")\n",
    "\n",
    "df['DATA_TRAT.'] = pd.to_datetime(df[\"DATA_TRAT.\"], dayfirst = True)\n"
   ]
  },
  {
   "cell_type": "markdown",
   "id": "686e530e",
   "metadata": {},
   "source": [
    "### Atribuindo apenas dados referentes a 2017 à variável df"
   ]
  },
  {
   "cell_type": "code",
   "execution_count": 76,
   "id": "fc8d8137",
   "metadata": {},
   "outputs": [],
   "source": [
    "df = df.loc[(df['DATA_TRAT.'] >= '2017-01-01') & (df['DATA_TRAT.'] <= '2017-12-31')]"
   ]
  },
  {
   "cell_type": "markdown",
   "id": "860a2221",
   "metadata": {},
   "source": [
    "Retirando P10 e P90 das vendas dos produtos:"
   ]
  },
  {
   "cell_type": "markdown",
   "id": "bec356eb",
   "metadata": {},
   "source": [
    "Criando o *Dataframe* agregado por semana"
   ]
  },
  {
   "cell_type": "code",
   "execution_count": 78,
   "id": "0d08eff4",
   "metadata": {},
   "outputs": [],
   "source": [
    "# Criando colunas de Semana e Ano para auxiliar na agregação\n",
    "df.reset_index(inplace = True, drop = True)\n",
    "df[\"Semana\"] = df['DATA_TRAT.'].dt.isocalendar().week\n",
    "df[\"Ano\"] = df[\"DATA_TRAT.\"].dt.year\n",
    "#df[\"Mes\"] = df['DATA_TRAT.'].dt.month"
   ]
  },
  {
   "cell_type": "markdown",
   "id": "5a5bdd56",
   "metadata": {},
   "source": [
    "> Fazendo as agregações: \n",
    "* Colunas de **Vendas Reais, Margem e CMV** foram somadas\n",
    "* Colunas de **Preço  e Porcentagem de Margem** foram calculadas com base na média\n",
    "* Coluna da razão **CMV/QTD** foi retirada uma nova fração entre a coluna CMV e QTD para respeitar a razão entre as grandezas."
   ]
  },
  {
   "cell_type": "markdown",
   "id": "996f4d6d",
   "metadata": {},
   "source": [
    "### A coluna mês foi removida do agrupamento por estar contribuindo para a duplicação dos dados\n",
    "- 17-01-2023"
   ]
  },
  {
   "cell_type": "code",
   "execution_count": 80,
   "id": "21b43089",
   "metadata": {},
   "outputs": [],
   "source": [
    "### Definindo df_Agg\n",
    "df_agg = df[[\"SAP+NOME\", \"UF\", \"Ano\",\"Semana\",  \"preço2\", \"Mg %\",\n",
    "                     \"Margem Líquida Real %\", \"Preço\"]]\n",
    "### Definindo df_Agg_sum\n",
    "df_agg_sum = df[[\"SAP+NOME\", \"UF\", \"Semana\", \"Vendas Reais Qtde\", \"Vendas Reais $\",\n",
    "                     \"Margem Líquida Real $\", \"Venda Líquida Real $\", \"CMV\"]]"
   ]
  },
  {
   "cell_type": "code",
   "execution_count": 81,
   "id": "16f529b2",
   "metadata": {},
   "outputs": [],
   "source": [
    "### Agrupando df_agg por SAP+NOME, UF e Semana e calculando a média\n",
    "df_agg = df_agg.groupby([\"SAP+NOME\", \"UF\", \"Semana\"]).mean().reset_index()\n",
    "\n",
    "### Agrupando df_Agg_sum por SAP+NOME, UF e Semana e somando as demais variáveis\n",
    "df_agg_sum = df_agg_sum.groupby([\"SAP+NOME\", \"UF\", \"Semana\"]).sum().reset_index()\n",
    "\n",
    "### Calculando CMV individual\n",
    "df_agg_sum[\"CMV/QTD\"] = df_agg_sum[\"CMV\"] / df_agg_sum[\"Vendas Reais Qtde\"]"
   ]
  },
  {
   "cell_type": "markdown",
   "id": "2f711b96",
   "metadata": {},
   "source": [
    "Unindo os dois *dataframes* de agregação criados para chegar ao *dataset* que será depositado no *Data Lake*"
   ]
  },
  {
   "cell_type": "code",
   "execution_count": 82,
   "id": "89e41298",
   "metadata": {
    "collapsed": true
   },
   "outputs": [
    {
     "data": {
      "text/html": [
       "<div>\n",
       "<style scoped>\n",
       "    .dataframe tbody tr th:only-of-type {\n",
       "        vertical-align: middle;\n",
       "    }\n",
       "\n",
       "    .dataframe tbody tr th {\n",
       "        vertical-align: top;\n",
       "    }\n",
       "\n",
       "    .dataframe thead th {\n",
       "        text-align: right;\n",
       "    }\n",
       "</style>\n",
       "<table border=\"1\" class=\"dataframe\">\n",
       "  <thead>\n",
       "    <tr style=\"text-align: right;\">\n",
       "      <th></th>\n",
       "      <th>SAP+NOME</th>\n",
       "      <th>UF</th>\n",
       "      <th>Semana</th>\n",
       "      <th>Ano</th>\n",
       "      <th>preço2</th>\n",
       "      <th>Mg %</th>\n",
       "      <th>Margem Líquida Real %</th>\n",
       "      <th>Preço</th>\n",
       "      <th>Vendas Reais Qtde</th>\n",
       "      <th>Vendas Reais $</th>\n",
       "      <th>Margem Líquida Real $</th>\n",
       "      <th>Venda Líquida Real $</th>\n",
       "      <th>CMV</th>\n",
       "      <th>CMV/QTD</th>\n",
       "    </tr>\n",
       "  </thead>\n",
       "  <tbody>\n",
       "    <tr>\n",
       "      <th>0</th>\n",
       "      <td>000000000002158151 - T VISITA P BORDA DESIRE A...</td>\n",
       "      <td>AC</td>\n",
       "      <td>2</td>\n",
       "      <td>2017.0</td>\n",
       "      <td>4.99</td>\n",
       "      <td>0.516304</td>\n",
       "      <td>51.630435</td>\n",
       "      <td>4.990000</td>\n",
       "      <td>2.0</td>\n",
       "      <td>9.98</td>\n",
       "      <td>3.80</td>\n",
       "      <td>7.36</td>\n",
       "      <td>3.56</td>\n",
       "      <td>1.780000</td>\n",
       "    </tr>\n",
       "    <tr>\n",
       "      <th>1</th>\n",
       "      <td>000000000002158151 - T VISITA P BORDA DESIRE A...</td>\n",
       "      <td>AC</td>\n",
       "      <td>3</td>\n",
       "      <td>2017.0</td>\n",
       "      <td>4.99</td>\n",
       "      <td>0.508152</td>\n",
       "      <td>50.815217</td>\n",
       "      <td>4.990000</td>\n",
       "      <td>3.0</td>\n",
       "      <td>14.97</td>\n",
       "      <td>5.61</td>\n",
       "      <td>11.04</td>\n",
       "      <td>5.43</td>\n",
       "      <td>1.810000</td>\n",
       "    </tr>\n",
       "    <tr>\n",
       "      <th>2</th>\n",
       "      <td>000000000002158151 - T VISITA P BORDA DESIRE A...</td>\n",
       "      <td>AC</td>\n",
       "      <td>6</td>\n",
       "      <td>2017.0</td>\n",
       "      <td>2.99</td>\n",
       "      <td>0.177273</td>\n",
       "      <td>17.727273</td>\n",
       "      <td>2.990000</td>\n",
       "      <td>1.0</td>\n",
       "      <td>2.99</td>\n",
       "      <td>0.39</td>\n",
       "      <td>2.20</td>\n",
       "      <td>1.81</td>\n",
       "      <td>1.810000</td>\n",
       "    </tr>\n",
       "    <tr>\n",
       "      <th>3</th>\n",
       "      <td>000000000002158151 - T VISITA P BORDA DESIRE A...</td>\n",
       "      <td>AC</td>\n",
       "      <td>9</td>\n",
       "      <td>2017.0</td>\n",
       "      <td>4.99</td>\n",
       "      <td>0.508152</td>\n",
       "      <td>50.815217</td>\n",
       "      <td>4.990000</td>\n",
       "      <td>1.0</td>\n",
       "      <td>4.99</td>\n",
       "      <td>1.87</td>\n",
       "      <td>3.68</td>\n",
       "      <td>1.81</td>\n",
       "      <td>1.810000</td>\n",
       "    </tr>\n",
       "    <tr>\n",
       "      <th>4</th>\n",
       "      <td>000000000002158151 - T VISITA P BORDA DESIRE A...</td>\n",
       "      <td>AC</td>\n",
       "      <td>10</td>\n",
       "      <td>2017.0</td>\n",
       "      <td>4.99</td>\n",
       "      <td>0.508152</td>\n",
       "      <td>50.815217</td>\n",
       "      <td>4.990000</td>\n",
       "      <td>5.0</td>\n",
       "      <td>24.95</td>\n",
       "      <td>9.35</td>\n",
       "      <td>18.40</td>\n",
       "      <td>9.05</td>\n",
       "      <td>1.810000</td>\n",
       "    </tr>\n",
       "    <tr>\n",
       "      <th>...</th>\n",
       "      <td>...</td>\n",
       "      <td>...</td>\n",
       "      <td>...</td>\n",
       "      <td>...</td>\n",
       "      <td>...</td>\n",
       "      <td>...</td>\n",
       "      <td>...</td>\n",
       "      <td>...</td>\n",
       "      <td>...</td>\n",
       "      <td>...</td>\n",
       "      <td>...</td>\n",
       "      <td>...</td>\n",
       "      <td>...</td>\n",
       "      <td>...</td>\n",
       "    </tr>\n",
       "    <tr>\n",
       "      <th>11647</th>\n",
       "      <td>000000000004270164 - DESINF LIQ PINHO SOL ORIG...</td>\n",
       "      <td>SP</td>\n",
       "      <td>48</td>\n",
       "      <td>2017.0</td>\n",
       "      <td>4.99</td>\n",
       "      <td>0.325059</td>\n",
       "      <td>32.505907</td>\n",
       "      <td>4.940000</td>\n",
       "      <td>23.0</td>\n",
       "      <td>114.27</td>\n",
       "      <td>27.41</td>\n",
       "      <td>83.33</td>\n",
       "      <td>55.92</td>\n",
       "      <td>2.431304</td>\n",
       "    </tr>\n",
       "    <tr>\n",
       "      <th>11648</th>\n",
       "      <td>000000000004270164 - DESINF LIQ PINHO SOL ORIG...</td>\n",
       "      <td>SP</td>\n",
       "      <td>49</td>\n",
       "      <td>2017.0</td>\n",
       "      <td>4.99</td>\n",
       "      <td>0.274501</td>\n",
       "      <td>27.450107</td>\n",
       "      <td>4.617266</td>\n",
       "      <td>158.0</td>\n",
       "      <td>725.63</td>\n",
       "      <td>144.48</td>\n",
       "      <td>528.74</td>\n",
       "      <td>384.26</td>\n",
       "      <td>2.432025</td>\n",
       "    </tr>\n",
       "    <tr>\n",
       "      <th>11649</th>\n",
       "      <td>000000000004270164 - DESINF LIQ PINHO SOL ORIG...</td>\n",
       "      <td>SP</td>\n",
       "      <td>50</td>\n",
       "      <td>2017.0</td>\n",
       "      <td>4.99</td>\n",
       "      <td>0.300096</td>\n",
       "      <td>30.009580</td>\n",
       "      <td>4.765641</td>\n",
       "      <td>60.0</td>\n",
       "      <td>285.40</td>\n",
       "      <td>62.16</td>\n",
       "      <td>208.02</td>\n",
       "      <td>145.86</td>\n",
       "      <td>2.431000</td>\n",
       "    </tr>\n",
       "    <tr>\n",
       "      <th>11650</th>\n",
       "      <td>000000000004270164 - DESINF LIQ PINHO SOL ORIG...</td>\n",
       "      <td>SP</td>\n",
       "      <td>51</td>\n",
       "      <td>2017.0</td>\n",
       "      <td>4.99</td>\n",
       "      <td>0.302522</td>\n",
       "      <td>30.252185</td>\n",
       "      <td>4.793163</td>\n",
       "      <td>129.0</td>\n",
       "      <td>614.72</td>\n",
       "      <td>134.13</td>\n",
       "      <td>448.00</td>\n",
       "      <td>313.87</td>\n",
       "      <td>2.433101</td>\n",
       "    </tr>\n",
       "    <tr>\n",
       "      <th>11651</th>\n",
       "      <td>000000000004270164 - DESINF LIQ PINHO SOL ORIG...</td>\n",
       "      <td>SP</td>\n",
       "      <td>52</td>\n",
       "      <td>2017.0</td>\n",
       "      <td>4.99</td>\n",
       "      <td>0.320648</td>\n",
       "      <td>32.064832</td>\n",
       "      <td>4.915119</td>\n",
       "      <td>179.0</td>\n",
       "      <td>881.22</td>\n",
       "      <td>206.79</td>\n",
       "      <td>642.19</td>\n",
       "      <td>435.40</td>\n",
       "      <td>2.432402</td>\n",
       "    </tr>\n",
       "  </tbody>\n",
       "</table>\n",
       "<p>11652 rows × 14 columns</p>\n",
       "</div>"
      ],
      "text/plain": [
       "                                                SAP+NOME  UF  Semana     Ano  \\\n",
       "0      000000000002158151 - T VISITA P BORDA DESIRE A...  AC       2  2017.0   \n",
       "1      000000000002158151 - T VISITA P BORDA DESIRE A...  AC       3  2017.0   \n",
       "2      000000000002158151 - T VISITA P BORDA DESIRE A...  AC       6  2017.0   \n",
       "3      000000000002158151 - T VISITA P BORDA DESIRE A...  AC       9  2017.0   \n",
       "4      000000000002158151 - T VISITA P BORDA DESIRE A...  AC      10  2017.0   \n",
       "...                                                  ...  ..     ...     ...   \n",
       "11647  000000000004270164 - DESINF LIQ PINHO SOL ORIG...  SP      48  2017.0   \n",
       "11648  000000000004270164 - DESINF LIQ PINHO SOL ORIG...  SP      49  2017.0   \n",
       "11649  000000000004270164 - DESINF LIQ PINHO SOL ORIG...  SP      50  2017.0   \n",
       "11650  000000000004270164 - DESINF LIQ PINHO SOL ORIG...  SP      51  2017.0   \n",
       "11651  000000000004270164 - DESINF LIQ PINHO SOL ORIG...  SP      52  2017.0   \n",
       "\n",
       "       preço2      Mg %  Margem Líquida Real %     Preço  Vendas Reais Qtde  \\\n",
       "0        4.99  0.516304              51.630435  4.990000                2.0   \n",
       "1        4.99  0.508152              50.815217  4.990000                3.0   \n",
       "2        2.99  0.177273              17.727273  2.990000                1.0   \n",
       "3        4.99  0.508152              50.815217  4.990000                1.0   \n",
       "4        4.99  0.508152              50.815217  4.990000                5.0   \n",
       "...       ...       ...                    ...       ...                ...   \n",
       "11647    4.99  0.325059              32.505907  4.940000               23.0   \n",
       "11648    4.99  0.274501              27.450107  4.617266              158.0   \n",
       "11649    4.99  0.300096              30.009580  4.765641               60.0   \n",
       "11650    4.99  0.302522              30.252185  4.793163              129.0   \n",
       "11651    4.99  0.320648              32.064832  4.915119              179.0   \n",
       "\n",
       "       Vendas Reais $  Margem Líquida Real $  Venda Líquida Real $     CMV  \\\n",
       "0                9.98                   3.80                  7.36    3.56   \n",
       "1               14.97                   5.61                 11.04    5.43   \n",
       "2                2.99                   0.39                  2.20    1.81   \n",
       "3                4.99                   1.87                  3.68    1.81   \n",
       "4               24.95                   9.35                 18.40    9.05   \n",
       "...               ...                    ...                   ...     ...   \n",
       "11647          114.27                  27.41                 83.33   55.92   \n",
       "11648          725.63                 144.48                528.74  384.26   \n",
       "11649          285.40                  62.16                208.02  145.86   \n",
       "11650          614.72                 134.13                448.00  313.87   \n",
       "11651          881.22                 206.79                642.19  435.40   \n",
       "\n",
       "        CMV/QTD  \n",
       "0      1.780000  \n",
       "1      1.810000  \n",
       "2      1.810000  \n",
       "3      1.810000  \n",
       "4      1.810000  \n",
       "...         ...  \n",
       "11647  2.431304  \n",
       "11648  2.432025  \n",
       "11649  2.431000  \n",
       "11650  2.433101  \n",
       "11651  2.432402  \n",
       "\n",
       "[11652 rows x 14 columns]"
      ]
     },
     "execution_count": 82,
     "metadata": {},
     "output_type": "execute_result"
    }
   ],
   "source": [
    "### Criando df_final como cópia do df_Agg\n",
    "df_final = df_agg.copy()\n",
    "\n",
    "### Fazendo merge entre df_final e df_agg_sum utilizando SAP+NOME, UF e Semana como Chaves\n",
    "df_final = df_final.merge(df_agg_sum, on = [\"SAP+NOME\", \"UF\", \"Semana\"], how = \"inner\")\n",
    "\n",
    "### Resetando index\n",
    "df_final.reset_index(inplace = True, drop = True)"
   ]
  },
  {
   "cell_type": "markdown",
   "id": "f34a3f87",
   "metadata": {},
   "source": [
    "### Verificação de dados duplicados"
   ]
  },
  {
   "cell_type": "code",
   "execution_count": 84,
   "id": "bc824b22",
   "metadata": {
    "scrolled": true
   },
   "outputs": [
    {
     "data": {
      "text/plain": [
       "False    11652\n",
       "dtype: int64"
      ]
     },
     "execution_count": 84,
     "metadata": {},
     "output_type": "execute_result"
    }
   ],
   "source": [
    "df_final.duplicated(subset=['SAP+NOME', 'UF', 'Semana']).value_counts()"
   ]
  },
  {
   "cell_type": "markdown",
   "id": "812cb1e1",
   "metadata": {},
   "source": [
    "Retirando *P10* e *P90* dos produtos que possuiram variações de preço mais de 10 vezes. Essa agregação foi feita por **Produto** e por **UF** para eliminar os preços promocionais e as sazonalidades de vendas causadas por eles. E para as demais situações de um dado **Produto** ou **UF**, onde o preço não variou mais de 10 vezes, mas, ainda sim, há sazonalidade na quantidade de vendas semanais, também foram removidos os valores menores que *P10*, para remover quantidades insignificantes e *P90*, para remover valores que destoam."
   ]
  },
  {
   "cell_type": "code",
   "execution_count": 85,
   "id": "0edbaa2b",
   "metadata": {
    "scrolled": true
   },
   "outputs": [],
   "source": [
    "lst_uf = df_final[\"UF\"].unique()\n",
    "lst_sap = df_final[\"SAP+NOME\"].unique()\n",
    "\n",
    "for uf in lst_uf:\n",
    "    for sap in lst_sap:\n",
    "        df_seg = df_final.loc[(df_final[\"UF\"] == uf) & (df_final[\"SAP+NOME\"] == sap)].copy()\n",
    "        if df_seg.empty == True:\n",
    "               continue\n",
    "        else:\n",
    "            # Se preço variar mais de 10 vezes, encontraremos o p10 e o p90 de valor e quantidade\n",
    "            if len(df_seg[\"Preço\"].unique()) > 10:\n",
    "                q10_p = np.quantile(df_seg[\"Preço\"].unique(), .10)\n",
    "                q90_p = np.quantile(df_seg[\"Preço\"].unique(), .90)\n",
    "                q_10_qtd = np.quantile(df_seg[\"Vendas Reais Qtde\"], .10)\n",
    "                q_90_qtd = np.quantile(df_seg[\"Vendas Reais Qtde\"], .90)\n",
    "                \n",
    "                # Atribuindo a 'ind', todos os valores que atendem as condições\n",
    "                ind = df_seg.loc[((df_seg[\"Preço\"] < q10_p)  | (df_seg[\"Preço\"] > q90_p)) &\n",
    "                                 ((df_seg[\"Vendas Reais Qtde\"] < q_10_qtd) | (df_seg[\"Vendas Reais Qtde\"] > q_90_qtd))]\n",
    "                \n",
    "                # Dropando index dos valores de 'ind'\n",
    "                df_final = df_final.drop(ind.index)\n",
    "            \n",
    "            # Atribuindo a df_seg o valor de df_final ao final da condição\n",
    "            df_seg = df_final.loc[(df_final[\"UF\"] == uf) & (df_final[\"SAP+NOME\"] == sap)].copy()\n",
    "            \n",
    "            # Pegando o p10 e o p90 da coluna Vendas Reais Qtde\n",
    "            p10 = np.quantile(df_seg[\"Vendas Reais Qtde\"].unique(), .10)\n",
    "            p90 = np.quantile(df_seg[\"Vendas Reais Qtde\"].unique(), .90)\n",
    "            \n",
    "            # Atribuindo a variável ind todos os index que são menores que o p10 e maiores que o p90\n",
    "            ind = df_seg.loc[(df_seg[\"Vendas Reais Qtde\"] < p10)  | (df_seg[\"Vendas Reais Qtde\"] > p90)]\n",
    "            \n",
    "            # Removendo do DF todos os index que foram atribuidos a variável ind\n",
    "            df_final = df_final.drop(ind.index)"
   ]
  },
  {
   "cell_type": "markdown",
   "id": "529318ad",
   "metadata": {},
   "source": [
    "### Ordenando o df final por Ano, Semana e UF"
   ]
  },
  {
   "cell_type": "code",
   "execution_count": 86,
   "id": "e145a0b9",
   "metadata": {},
   "outputs": [],
   "source": [
    "df_final = df_final.sort_values(by = [\"Ano\", \"Semana\", \"UF\"]).reset_index(drop = True)"
   ]
  },
  {
   "cell_type": "markdown",
   "id": "43698bf3",
   "metadata": {},
   "source": [
    "### Gravando df_final como arquivo CSV"
   ]
  },
  {
   "cell_type": "code",
   "execution_count": 88,
   "id": "f6e4bb5f",
   "metadata": {},
   "outputs": [],
   "source": [
    "df_final.to_csv(\"../datasets/df_rpo_v4_2.csv\", index = False)"
   ]
  }
 ],
 "metadata": {
  "kernelspec": {
   "display_name": "Python 3 (ipykernel)",
   "language": "python",
   "name": "python3"
  },
  "language_info": {
   "codemirror_mode": {
    "name": "ipython",
    "version": 3
   },
   "file_extension": ".py",
   "mimetype": "text/x-python",
   "name": "python",
   "nbconvert_exporter": "python",
   "pygments_lexer": "ipython3",
   "version": "3.9.13"
  }
 },
 "nbformat": 4,
 "nbformat_minor": 5
}
