{
 "cells": [
  {
   "cell_type": "code",
   "execution_count": 1,
   "id": "6a6fd606",
   "metadata": {},
   "outputs": [],
   "source": [
    "import pandas as pd \n",
    "import matplotlib.pyplot as plt\n",
    "import numpy as np\n",
    "import plotly.express as px\n",
    "\n",
    "from jupyter_dash import JupyterDash\n",
    "from dash import Dash, dcc, html, Input, Output\n",
    "import dash_bootstrap_components as dbc"
   ]
  },
  {
   "cell_type": "code",
   "execution_count": 2,
   "id": "eaadd7a7",
   "metadata": {},
   "outputs": [],
   "source": [
    "df = pd.read_csv('../datasets/df_rpo_v4.csv')"
   ]
  },
  {
   "cell_type": "code",
   "execution_count": 3,
   "id": "9816f652",
   "metadata": {},
   "outputs": [
    {
     "data": {
      "text/plain": [
       "(33529, 14)"
      ]
     },
     "execution_count": 3,
     "metadata": {},
     "output_type": "execute_result"
    }
   ],
   "source": [
    "df.shape"
   ]
  },
  {
   "cell_type": "code",
   "execution_count": 4,
   "id": "b6f4b24b",
   "metadata": {},
   "outputs": [],
   "source": [
    "# Lista com todos os valores únicos de UF\n",
    "lst_uf = df[\"UF\"].unique()\n",
    "# Lista com todos os valores de SAP+NOME\n",
    "lst_sap = df[\"SAP+NOME\"].unique()\n",
    "\n",
    "# For dentro de For para percorrer a lista de UF e de SAP+NOME\n",
    "for uf in lst_uf:\n",
    "    for sap in lst_sap:\n",
    "        # Cópia do DF que receberá as combinações\n",
    "        df_seg = df.loc[(df[\"UF\"] == uf) & (df[\"SAP+NOME\"] == sap)].copy()\n",
    "        # Se o df_seg for vazio, o código segue\n",
    "        if df_seg.empty == True:\n",
    "               continue\n",
    "        # Senão        \n",
    "        else:\n",
    "            # Pegando o p10 e o p90 da coluna Vendas Reais Qtde\n",
    "            p10 = np.quantile(df_seg[\"Vendas Reais Qtde\"].unique(), .10)\n",
    "            p90 = np.quantile(df_seg[\"Vendas Reais Qtde\"].unique(), .90)\n",
    "            \n",
    "            # Atribuindo a variável ind todos os index que são menores que o p10 e maiores que o p90\n",
    "            ind = df_seg.loc[(df_seg[\"Vendas Reais Qtde\"] < p10)  | (df_seg[\"Vendas Reais Qtde\"] > p90)]\n",
    "            \n",
    "            # Removendo do DF todos os index que foram atribuidos a variável ind\n",
    "            df = df.drop(ind.index)"
   ]
  },
  {
   "cell_type": "code",
   "execution_count": 5,
   "id": "e951fb53",
   "metadata": {},
   "outputs": [
    {
     "data": {
      "text/plain": [
       "(25481, 14)"
      ]
     },
     "execution_count": 5,
     "metadata": {},
     "output_type": "execute_result"
    }
   ],
   "source": [
    "df.shape"
   ]
  },
  {
   "cell_type": "code",
   "execution_count": 6,
   "id": "d97c9f39",
   "metadata": {},
   "outputs": [],
   "source": [
    "df = df.sort_values(by = [\"Ano\",\"UF\",\"Semana\"]).reset_index(drop = True)"
   ]
  },
  {
   "cell_type": "code",
   "execution_count": 10,
   "id": "2c3ef511",
   "metadata": {},
   "outputs": [
    {
     "name": "stdout",
     "output_type": "stream",
     "text": [
      "Dash app running on http://127.0.0.1:8050/\n"
     ]
    }
   ],
   "source": [
    "nome_itens =  df[\"SAP+NOME\"].str.replace(\"[0-9]* - \", \"\", regex = True).unique()\n",
    "dic = dict()\n",
    "for i in range(len(nome_itens)):\n",
    "    dic[nome_itens[i]] = nome_itens[i]\n",
    "\n",
    "\n",
    "app = JupyterDash(__name__, external_stylesheets = [dbc.themes.CYBORG])\n",
    "app.layout = html.Div([\n",
    "     html.Div([\n",
    "       dcc.Markdown(\"\"\"\n",
    "       Estado:\n",
    "       \"\"\"),\n",
    "       dcc.Dropdown(\n",
    "           id=\"bar-drop-estado\",\n",
    "           options= df[\"UF\"].unique(),\n",
    "           value= 'AC',\n",
    "           clearable = True,\n",
    "           style = {\"font-family\":\"sans-serif\", \"font-size\": 12},\n",
    "       )\n",
    "    ],style=dict(width='15%')),\n",
    "    html.Div([\n",
    "       dcc.Markdown(\"\"\"\n",
    "       Item:\n",
    "       \"\"\"),\n",
    "       dcc.Dropdown(\n",
    "           id=\"bar-drop-item\",\n",
    "           options= dic,\n",
    "           value= 'T VISITA P BORDA DESIRE AZUL 6238',\n",
    "           clearable = True,\n",
    "           style = {\"font-family\":\"sans-serif\", \"font-size\": 12}\n",
    "       )\n",
    "    ],style=dict(width='25%')), \n",
    "   dcc.Graph(id = 'line')\n",
    "], style=dict(display='flex'))\n",
    "\n",
    "\n",
    "@app.callback(\n",
    "    Output(\"line\", \"figure\"),\n",
    "    [Input('bar-drop-estado', 'value'),\n",
    "    Input('bar-drop-item', 'value')]\n",
    ")\n",
    "def update_data(estado, item):\n",
    "    df_fig = df.copy()\n",
    "    df_fig[\"SAP+NOME\"] = df_fig[\"SAP+NOME\"].str.replace(\"[0-9]* - \", \"\", regex = True) \n",
    "    df_fig = df_fig.loc[(df_fig[\"SAP+NOME\"] == item ) & (df_fig[\"Ano\"] == 2017) & (df_fig[\"UF\"] == estado)]\n",
    "    fig = px.line(df_fig, x = \"Semana\", y = \"Preço\", width = 600, height = 500,\n",
    "                      title = f'Quantidade de vendas no Estado de  {estado}', markers = True)\n",
    "    fig.update_layout(xaxis_title = \"Dia do Mês\",\n",
    "                     yaxis_title = \"Acumulado de Vendas em R$\")\n",
    "    return fig\n",
    "\n",
    "\n",
    "app.run_server(mode='external')\n"
   ]
  },
  {
   "cell_type": "code",
   "execution_count": 8,
   "id": "3f2b7d5c",
   "metadata": {},
   "outputs": [],
   "source": [
    "df.to_csv('../datasets/df_rpo_v5.csv', index=False)"
   ]
  }
 ],
 "metadata": {
  "kernelspec": {
   "display_name": "Python 3",
   "language": "python",
   "name": "python3"
  },
  "language_info": {
   "codemirror_mode": {
    "name": "ipython",
    "version": 3
   },
   "file_extension": ".py",
   "mimetype": "text/x-python",
   "name": "python",
   "nbconvert_exporter": "python",
   "pygments_lexer": "ipython3",
   "version": "3.8.8"
  }
 },
 "nbformat": 4,
 "nbformat_minor": 5
}
