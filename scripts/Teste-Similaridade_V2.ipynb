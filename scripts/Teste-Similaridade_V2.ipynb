{
 "cells": [
  {
   "cell_type": "code",
   "execution_count": 70,
   "id": "e15ebc9b",
   "metadata": {
    "scrolled": false
   },
   "outputs": [],
   "source": [
    "from fuzzywuzzy import process\n",
    "import pandas as pd\n",
    "import numpy as np"
   ]
  },
  {
   "cell_type": "code",
   "execution_count": 82,
   "id": "ae0ff3b0",
   "metadata": {},
   "outputs": [],
   "source": [
    "df = pd.read_csv(\"../datasets/df_tratado_final.csv\", sep = \",\")"
   ]
  },
  {
   "cell_type": "code",
   "execution_count": 83,
   "id": "4d779b94",
   "metadata": {
    "scrolled": false
   },
   "outputs": [
    {
     "data": {
      "text/html": [
       "<div>\n",
       "<style scoped>\n",
       "    .dataframe tbody tr th:only-of-type {\n",
       "        vertical-align: middle;\n",
       "    }\n",
       "\n",
       "    .dataframe tbody tr th {\n",
       "        vertical-align: top;\n",
       "    }\n",
       "\n",
       "    .dataframe thead th {\n",
       "        text-align: right;\n",
       "    }\n",
       "</style>\n",
       "<table border=\"1\" class=\"dataframe\">\n",
       "  <thead>\n",
       "    <tr style=\"text-align: right;\">\n",
       "      <th></th>\n",
       "      <th>SAP+NOME</th>\n",
       "      <th>UF</th>\n",
       "      <th>Semana</th>\n",
       "      <th>Mes</th>\n",
       "      <th>Ano</th>\n",
       "      <th>preço2</th>\n",
       "      <th>Mg %</th>\n",
       "      <th>Margem Líquida Real %</th>\n",
       "      <th>Preço</th>\n",
       "      <th>Vendas Reais Qtde</th>\n",
       "      <th>...</th>\n",
       "      <th>Venda Líquida Real $</th>\n",
       "      <th>CMV</th>\n",
       "      <th>CMV/QTD</th>\n",
       "      <th>Região</th>\n",
       "      <th>DPPsic</th>\n",
       "      <th>Cont</th>\n",
       "      <th>Produto</th>\n",
       "      <th>Correlacao</th>\n",
       "      <th>NObs</th>\n",
       "      <th>Grupo</th>\n",
       "    </tr>\n",
       "  </thead>\n",
       "  <tbody>\n",
       "    <tr>\n",
       "      <th>0</th>\n",
       "      <td>T VISITA P BORDA DESIRE AZUL 6238</td>\n",
       "      <td>AL</td>\n",
       "      <td>1</td>\n",
       "      <td>1</td>\n",
       "      <td>2017</td>\n",
       "      <td>4.74</td>\n",
       "      <td>0.482330</td>\n",
       "      <td>48.233032</td>\n",
       "      <td>4.74000</td>\n",
       "      <td>7.0</td>\n",
       "      <td>...</td>\n",
       "      <td>24.73</td>\n",
       "      <td>12.44</td>\n",
       "      <td>1.777143</td>\n",
       "      <td>Nordeste</td>\n",
       "      <td>1</td>\n",
       "      <td>1</td>\n",
       "      <td>T VISITA P BORDA DESIRE AZUL 6238</td>\n",
       "      <td>-0.140144</td>\n",
       "      <td>26.0</td>\n",
       "      <td>7.0</td>\n",
       "    </tr>\n",
       "    <tr>\n",
       "      <th>1</th>\n",
       "      <td>T VISITA P BORDA DESIRE AGUA 6243</td>\n",
       "      <td>AL</td>\n",
       "      <td>1</td>\n",
       "      <td>1</td>\n",
       "      <td>2017</td>\n",
       "      <td>4.99</td>\n",
       "      <td>0.535633</td>\n",
       "      <td>53.563281</td>\n",
       "      <td>4.99000</td>\n",
       "      <td>7.0</td>\n",
       "      <td>...</td>\n",
       "      <td>25.44</td>\n",
       "      <td>11.97</td>\n",
       "      <td>1.710000</td>\n",
       "      <td>Nordeste</td>\n",
       "      <td>1</td>\n",
       "      <td>1</td>\n",
       "      <td>T VISITA P BORDA DESIRE AGUA 6243</td>\n",
       "      <td>0.000750</td>\n",
       "      <td>28.0</td>\n",
       "      <td>7.0</td>\n",
       "    </tr>\n",
       "    <tr>\n",
       "      <th>2</th>\n",
       "      <td>AMACIANTE COMFORT CONCENTRADO 500ML</td>\n",
       "      <td>AL</td>\n",
       "      <td>1</td>\n",
       "      <td>1</td>\n",
       "      <td>2017</td>\n",
       "      <td>7.99</td>\n",
       "      <td>0.404144</td>\n",
       "      <td>40.414445</td>\n",
       "      <td>7.96619</td>\n",
       "      <td>99.0</td>\n",
       "      <td>...</td>\n",
       "      <td>716.93</td>\n",
       "      <td>427.30</td>\n",
       "      <td>4.316162</td>\n",
       "      <td>Nordeste</td>\n",
       "      <td>0</td>\n",
       "      <td>1</td>\n",
       "      <td>AMACIANTE COMFORT CONCENTRADO 500ML</td>\n",
       "      <td>-0.537418</td>\n",
       "      <td>44.0</td>\n",
       "      <td>0.0</td>\n",
       "    </tr>\n",
       "    <tr>\n",
       "      <th>3</th>\n",
       "      <td>T VISITA P BORDA DESIRE AZUL 6238</td>\n",
       "      <td>AM</td>\n",
       "      <td>1</td>\n",
       "      <td>1</td>\n",
       "      <td>2017</td>\n",
       "      <td>4.74</td>\n",
       "      <td>0.587795</td>\n",
       "      <td>58.779525</td>\n",
       "      <td>4.74000</td>\n",
       "      <td>4.0</td>\n",
       "      <td>...</td>\n",
       "      <td>15.54</td>\n",
       "      <td>6.36</td>\n",
       "      <td>1.590000</td>\n",
       "      <td>Norte</td>\n",
       "      <td>1</td>\n",
       "      <td>1</td>\n",
       "      <td>T VISITA P BORDA DESIRE AZUL 6238</td>\n",
       "      <td>-0.672686</td>\n",
       "      <td>38.0</td>\n",
       "      <td>7.0</td>\n",
       "    </tr>\n",
       "    <tr>\n",
       "      <th>4</th>\n",
       "      <td>T VISITA P BORDA DESIRE AGUA 6243</td>\n",
       "      <td>AM</td>\n",
       "      <td>1</td>\n",
       "      <td>1</td>\n",
       "      <td>2017</td>\n",
       "      <td>4.99</td>\n",
       "      <td>0.621958</td>\n",
       "      <td>62.195832</td>\n",
       "      <td>4.99000</td>\n",
       "      <td>15.0</td>\n",
       "      <td>...</td>\n",
       "      <td>61.35</td>\n",
       "      <td>23.30</td>\n",
       "      <td>1.553333</td>\n",
       "      <td>Norte</td>\n",
       "      <td>1</td>\n",
       "      <td>1</td>\n",
       "      <td>T VISITA P BORDA DESIRE AGUA 6243</td>\n",
       "      <td>-0.184839</td>\n",
       "      <td>46.0</td>\n",
       "      <td>7.0</td>\n",
       "    </tr>\n",
       "  </tbody>\n",
       "</table>\n",
       "<p>5 rows × 22 columns</p>\n",
       "</div>"
      ],
      "text/plain": [
       "                              SAP+NOME  UF  Semana  Mes   Ano  preço2  \\\n",
       "0    T VISITA P BORDA DESIRE AZUL 6238  AL       1    1  2017    4.74   \n",
       "1    T VISITA P BORDA DESIRE AGUA 6243  AL       1    1  2017    4.99   \n",
       "2  AMACIANTE COMFORT CONCENTRADO 500ML  AL       1    1  2017    7.99   \n",
       "3    T VISITA P BORDA DESIRE AZUL 6238  AM       1    1  2017    4.74   \n",
       "4    T VISITA P BORDA DESIRE AGUA 6243  AM       1    1  2017    4.99   \n",
       "\n",
       "       Mg %  Margem Líquida Real %    Preço  Vendas Reais Qtde  ...  \\\n",
       "0  0.482330              48.233032  4.74000                7.0  ...   \n",
       "1  0.535633              53.563281  4.99000                7.0  ...   \n",
       "2  0.404144              40.414445  7.96619               99.0  ...   \n",
       "3  0.587795              58.779525  4.74000                4.0  ...   \n",
       "4  0.621958              62.195832  4.99000               15.0  ...   \n",
       "\n",
       "   Venda Líquida Real $     CMV   CMV/QTD    Região  DPPsic Cont  \\\n",
       "0                 24.73   12.44  1.777143  Nordeste       1    1   \n",
       "1                 25.44   11.97  1.710000  Nordeste       1    1   \n",
       "2                716.93  427.30  4.316162  Nordeste       0    1   \n",
       "3                 15.54    6.36  1.590000     Norte       1    1   \n",
       "4                 61.35   23.30  1.553333     Norte       1    1   \n",
       "\n",
       "                               Produto  Correlacao  NObs  Grupo  \n",
       "0    T VISITA P BORDA DESIRE AZUL 6238   -0.140144  26.0    7.0  \n",
       "1    T VISITA P BORDA DESIRE AGUA 6243    0.000750  28.0    7.0  \n",
       "2  AMACIANTE COMFORT CONCENTRADO 500ML   -0.537418  44.0    0.0  \n",
       "3    T VISITA P BORDA DESIRE AZUL 6238   -0.672686  38.0    7.0  \n",
       "4    T VISITA P BORDA DESIRE AGUA 6243   -0.184839  46.0    7.0  \n",
       "\n",
       "[5 rows x 22 columns]"
      ]
     },
     "execution_count": 83,
     "metadata": {},
     "output_type": "execute_result"
    }
   ],
   "source": [
    "df.head()"
   ]
  },
  {
   "cell_type": "markdown",
   "id": "f8de0d4d",
   "metadata": {},
   "source": [
    "# SORTED()"
   ]
  },
  {
   "cell_type": "code",
   "execution_count": 84,
   "id": "40124d9b",
   "metadata": {},
   "outputs": [],
   "source": [
    "lista_unicos = sorted(list(df[\"SAP+NOME\"].unique()))\n",
    "df[\"Grupo\"] = np.nan\n",
    "grupo = 0\n",
    "thresh = 52"
   ]
  },
  {
   "cell_type": "markdown",
   "id": "4f03859f",
   "metadata": {},
   "source": [
    "# While"
   ]
  },
  {
   "cell_type": "code",
   "execution_count": 85,
   "id": "dbfd4866",
   "metadata": {
    "scrolled": true
   },
   "outputs": [],
   "source": [
    "while len(lista_unicos) > 0:\n",
    "    item = lista_unicos[0] \n",
    "    similaridades = process.extract(item, lista_unicos)\n",
    "    for i in range(len(similaridades)):\n",
    "        if (similaridades[i][1] >= thresh):\n",
    "            df.loc[df[\"SAP+NOME\"] == similaridades[i][0], \"Grupo\"] = grupo\n",
    "            lista_unicos.remove(similaridades[i][0])\n",
    "    grupo += 1\n",
    "        "
   ]
  },
  {
   "cell_type": "markdown",
   "id": "99e1b40a",
   "metadata": {},
   "source": [
    "## Validação"
   ]
  },
  {
   "cell_type": "code",
   "execution_count": 86,
   "id": "70788a8f",
   "metadata": {
    "scrolled": true
   },
   "outputs": [
    {
     "name": "stdout",
     "output_type": "stream",
     "text": [
      "grupo => 0\n",
      "['AMACIANTE COMFORT CONCENTRADO 500ML'\n",
      " 'AMACIANTE DOWNY LIRIOS DO CAMPO 500ML'\n",
      " 'AMACIANTE COMFORT PURO CUIDADO 500ML']\n",
      "grupo => 1\n",
      "['KIT CABIDE C/3 MADEIRA REV' 'CIF ULT RAP TIRA LIMO C/CLORO SQZ 500ML'\n",
      " 'CIF ULTRA RAP BANH S/CLORO SQUEEZE 500ML']\n",
      "grupo => 2\n",
      "['DESINF LIQ PINHO SOL CITRUS LIMAO 500ML'\n",
      " 'DESINF LIQ PINHO SOL ORIGINAL 500ML']\n",
      "grupo => 3\n",
      "['FRONHA AVULSA ESTAMPADA ANDREZA' 'FRONHA AVULSA LISA ANDREZA'\n",
      " 'FRONHA AVULSA LISA CAMESA' 'FRONHA AVULSA ESTAMPADA CAMESA']\n",
      "grupo => 4\n",
      "['JG CAMA QUEEN PRATA 150FIOS MALIBU SANTI'\n",
      " 'JG CAMA QUEEN MICROFIBRA ANDREZA']\n",
      "grupo => 5\n",
      "['PANO SCOTT DURAMAX LIMPEZA DIARIA C/5']\n",
      "grupo => 6\n",
      "['T VISITA P BORDA DESIRE AZUL 6238' 'T VISITA P BORDA DESIRE AGUA 6243'\n",
      " 'T VISITA DISNEY CARS SANTISTA' 'T VISITA DISNEY BELA SANTISTA']\n"
     ]
    }
   ],
   "source": [
    "for i in range(len(df[\"Grupo\"].unique())):\n",
    "    print(f'grupo => {i}')\n",
    "    print(df.loc[df[\"Grupo\"] == i][\"SAP+NOME\"].unique())"
   ]
  },
  {
   "cell_type": "code",
   "execution_count": 87,
   "id": "97be0305",
   "metadata": {},
   "outputs": [
    {
     "data": {
      "text/plain": [
       "7.0"
      ]
     },
     "execution_count": 87,
     "metadata": {},
     "output_type": "execute_result"
    }
   ],
   "source": [
    "sorted(df_agrupado[\"Grupo\"].unique())[-1]"
   ]
  },
  {
   "cell_type": "code",
   "execution_count": 88,
   "id": "afff1bbc",
   "metadata": {
    "scrolled": true
   },
   "outputs": [
    {
     "data": {
      "text/html": [
       "<div>\n",
       "<style scoped>\n",
       "    .dataframe tbody tr th:only-of-type {\n",
       "        vertical-align: middle;\n",
       "    }\n",
       "\n",
       "    .dataframe tbody tr th {\n",
       "        vertical-align: top;\n",
       "    }\n",
       "\n",
       "    .dataframe thead th {\n",
       "        text-align: right;\n",
       "    }\n",
       "</style>\n",
       "<table border=\"1\" class=\"dataframe\">\n",
       "  <thead>\n",
       "    <tr style=\"text-align: right;\">\n",
       "      <th></th>\n",
       "      <th>Preço</th>\n",
       "      <th>Vendas Reais Qtde</th>\n",
       "      <th>Grupo</th>\n",
       "    </tr>\n",
       "  </thead>\n",
       "  <tbody>\n",
       "    <tr>\n",
       "      <th>Preço</th>\n",
       "      <td>1.000000</td>\n",
       "      <td>-0.069071</td>\n",
       "      <td>0.053411</td>\n",
       "    </tr>\n",
       "    <tr>\n",
       "      <th>Vendas Reais Qtde</th>\n",
       "      <td>-0.069071</td>\n",
       "      <td>1.000000</td>\n",
       "      <td>-0.239361</td>\n",
       "    </tr>\n",
       "    <tr>\n",
       "      <th>Grupo</th>\n",
       "      <td>0.053411</td>\n",
       "      <td>-0.239361</td>\n",
       "      <td>1.000000</td>\n",
       "    </tr>\n",
       "  </tbody>\n",
       "</table>\n",
       "</div>"
      ],
      "text/plain": [
       "                      Preço  Vendas Reais Qtde     Grupo\n",
       "Preço              1.000000          -0.069071  0.053411\n",
       "Vendas Reais Qtde -0.069071           1.000000 -0.239361\n",
       "Grupo              0.053411          -0.239361  1.000000"
      ]
     },
     "execution_count": 88,
     "metadata": {},
     "output_type": "execute_result"
    }
   ],
   "source": [
    "df[[\"Preço\", \"Vendas Reais Qtde\", \"Grupo\"]].corr()"
   ]
  },
  {
   "cell_type": "code",
   "execution_count": 89,
   "id": "c373a6cd",
   "metadata": {
    "scrolled": false
   },
   "outputs": [
    {
     "data": {
      "text/html": [
       "<div>\n",
       "<style scoped>\n",
       "    .dataframe tbody tr th:only-of-type {\n",
       "        vertical-align: middle;\n",
       "    }\n",
       "\n",
       "    .dataframe tbody tr th {\n",
       "        vertical-align: top;\n",
       "    }\n",
       "\n",
       "    .dataframe thead th {\n",
       "        text-align: right;\n",
       "    }\n",
       "</style>\n",
       "<table border=\"1\" class=\"dataframe\">\n",
       "  <thead>\n",
       "    <tr style=\"text-align: right;\">\n",
       "      <th></th>\n",
       "      <th>CMV</th>\n",
       "      <th>CMV/QTD</th>\n",
       "      <th>Vendas Reais Qtde</th>\n",
       "    </tr>\n",
       "  </thead>\n",
       "  <tbody>\n",
       "    <tr>\n",
       "      <th>CMV</th>\n",
       "      <td>1.000000</td>\n",
       "      <td>0.196381</td>\n",
       "      <td>0.664583</td>\n",
       "    </tr>\n",
       "    <tr>\n",
       "      <th>CMV/QTD</th>\n",
       "      <td>0.196381</td>\n",
       "      <td>1.000000</td>\n",
       "      <td>-0.056368</td>\n",
       "    </tr>\n",
       "    <tr>\n",
       "      <th>Vendas Reais Qtde</th>\n",
       "      <td>0.664583</td>\n",
       "      <td>-0.056368</td>\n",
       "      <td>1.000000</td>\n",
       "    </tr>\n",
       "  </tbody>\n",
       "</table>\n",
       "</div>"
      ],
      "text/plain": [
       "                        CMV   CMV/QTD  Vendas Reais Qtde\n",
       "CMV                1.000000  0.196381           0.664583\n",
       "CMV/QTD            0.196381  1.000000          -0.056368\n",
       "Vendas Reais Qtde  0.664583 -0.056368           1.000000"
      ]
     },
     "execution_count": 89,
     "metadata": {},
     "output_type": "execute_result"
    }
   ],
   "source": [
    "df[[\"CMV\", \"CMV/QTD\", \"Vendas Reais Qtde\"]].corr()"
   ]
  },
  {
   "cell_type": "markdown",
   "id": "141fa39c",
   "metadata": {},
   "source": [
    "## Função"
   ]
  },
  {
   "cell_type": "code",
   "execution_count": 90,
   "id": "ce850fea",
   "metadata": {},
   "outputs": [],
   "source": [
    "def agrupamentos(dataframe, threshold:float):\n",
    "    \"\"\"\n",
    "    Descreve uma função que classifica os itens em grupos de similaridade utilizando fuzzy matching.\n",
    "    \n",
    "    dataframe -> dataframe que contém os itens a serem classificados]\n",
    "    threshold -> grau de similaridade entre os nomes dos itens (0 a  100)\n",
    "    \"\"\"\n",
    "    \n",
    "    # Cria um vetor de itens únicos ordenados alfabeticamente\n",
    "    lista_unicos = sorted(list(dataframe[\"SAP+NOME\"].unique()))\n",
    "    \n",
    "    # Cria uma feature de NaN's chamada Grupo\n",
    "    dataframe[\"Grupo\"] = np.nan\n",
    "    grupo = 0\n",
    "    \n",
    "    # Percorre o nosso dataframe e faz o agrupamento entre os itens\n",
    "    while len(lista_unicos) > 0:\n",
    "        item = lista_unicos[0] \n",
    "        similaridades = process.extract(item, lista_unicos)\n",
    "        for i in range(len(similaridades)):\n",
    "            if (similaridades[i][1] >= threshold):\n",
    "                dataframe.loc[dataframe[\"SAP+NOME\"] == similaridades[i][0], \"Grupo\"] = grupo\n",
    "                lista_unicos.remove(similaridades[i][0])\n",
    "        grupo += 1\n",
    "    \n",
    "    return dataframe"
   ]
  },
  {
   "cell_type": "markdown",
   "id": "349f57d6",
   "metadata": {},
   "source": [
    "Fazendo ajustes nos grupos onde os produtos agregados não fazem sentido:\n",
    "1. **Kit cabide c/3 madeira rev**"
   ]
  },
  {
   "cell_type": "code",
   "execution_count": 94,
   "id": "3f80673b",
   "metadata": {},
   "outputs": [],
   "source": [
    "df_agrupado = agrupamentos(df, 55)\n",
    "df_agrupado.loc[df_agrupado[\"SAP+NOME\"] == 'KIT CABIDE C/3 MADEIRA REV', \"Grupo\"] = \\\n",
    "                                                                                (sorted(df_agrupado[\"Grupo\"].unique())[-1]) + 1"
   ]
  },
  {
   "cell_type": "markdown",
   "id": "5297390a",
   "metadata": {},
   "source": [
    "## Sobrescrevendo o dataset final"
   ]
  },
  {
   "cell_type": "code",
   "execution_count": 95,
   "id": "abf99dbf",
   "metadata": {},
   "outputs": [],
   "source": [
    "df_agrupado.to_csv(\"../datasets/df_tratado_final.csv\", index = False)"
   ]
  },
  {
   "cell_type": "code",
   "execution_count": 97,
   "id": "39929f40",
   "metadata": {},
   "outputs": [
    {
     "data": {
      "text/plain": [
       "Index(['SAP+NOME', 'UF', 'Semana', 'Mes', 'Ano', 'preço2', 'Mg %',\n",
       "       'Margem Líquida Real %', 'Preço', 'Vendas Reais Qtde', 'Vendas Reais $',\n",
       "       'Margem Líquida Real $', 'Venda Líquida Real $', 'CMV', 'CMV/QTD',\n",
       "       'Região', 'DPPsic', 'Cont', 'Produto', 'Correlacao', 'NObs', 'Grupo'],\n",
       "      dtype='object')"
      ]
     },
     "execution_count": 97,
     "metadata": {},
     "output_type": "execute_result"
    }
   ],
   "source": []
  }
 ],
 "metadata": {
  "kernelspec": {
   "display_name": "Python 3 (ipykernel)",
   "language": "python",
   "name": "python3"
  },
  "language_info": {
   "codemirror_mode": {
    "name": "ipython",
    "version": 3
   },
   "file_extension": ".py",
   "mimetype": "text/x-python",
   "name": "python",
   "nbconvert_exporter": "python",
   "pygments_lexer": "ipython3",
   "version": "3.9.13"
  }
 },
 "nbformat": 4,
 "nbformat_minor": 5
}
