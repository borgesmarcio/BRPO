{
 "cells": [
  {
   "cell_type": "markdown",
   "id": "21306f87",
   "metadata": {},
   "source": [
    "## Descrição do Notebook"
   ]
  },
  {
   "cell_type": "markdown",
   "id": "6fa94455",
   "metadata": {},
   "source": [
    "Neste notebook, os dados são agregados por dia e as regras aplicadas estão descritas ao decorrer do código."
   ]
  },
  {
   "cell_type": "code",
   "execution_count": 1,
   "id": "a56690d3",
   "metadata": {},
   "outputs": [],
   "source": [
    "import pandas as pd \n",
    "import numpy as np\n",
    "import xlrd             #lê dados do excel\n",
    "import matplotlib.pyplot as plt\n"
   ]
  },
  {
   "cell_type": "markdown",
   "id": "34e4e9b6",
   "metadata": {},
   "source": [
    "### Lendo o arquivo e informando que a tabela DATA_TRAT. é do tipo datetime"
   ]
  },
  {
   "cell_type": "code",
   "execution_count": 2,
   "id": "5128504a",
   "metadata": {},
   "outputs": [],
   "source": [
    "df = pd.read_csv(\"../datasets/df_rpo_v3.csv\")\n",
    "\n",
    "df['DATA_TRAT.'] = pd.to_datetime(df[\"DATA_TRAT.\"], dayfirst = True)\n"
   ]
  },
  {
   "cell_type": "markdown",
   "id": "686e530e",
   "metadata": {},
   "source": [
    "### Atribuindo apenas dados referentes a 2017 à variável df"
   ]
  },
  {
   "cell_type": "code",
   "execution_count": 3,
   "id": "fc8d8137",
   "metadata": {},
   "outputs": [],
   "source": [
    "df = df.loc[(df['DATA_TRAT.'] >= '2017-01-01') & (df['DATA_TRAT.'] <= '2017-12-31')]"
   ]
  },
  {
   "cell_type": "markdown",
   "id": "860a2221",
   "metadata": {},
   "source": [
    "Retirando P10 e P90 das vendas dos produtos:"
   ]
  },
  {
   "cell_type": "markdown",
   "id": "bec356eb",
   "metadata": {},
   "source": [
    "Criando o *Dataframe* agregado por ano, mes, dia"
   ]
  },
  {
   "cell_type": "code",
   "execution_count": 4,
   "id": "0d08eff4",
   "metadata": {},
   "outputs": [],
   "source": [
    "# Criando colunas de Semana e Ano para auxiliar na agregação\n",
    "df.reset_index(inplace = True, drop = True)\n",
    "#df[\"Semana\"] = df['DATA_TRAT.'].dt.isocalendar().week\n",
    "df[\"Ano\"] = df[\"DATA_TRAT.\"].dt.year\n",
    "df[\"Mes\"] = df['DATA_TRAT.'].dt.month\n",
    "df[\"Dia\"] = df['DATA_TRAT.'].dt.day"
   ]
  },
  {
   "cell_type": "markdown",
   "id": "5a5bdd56",
   "metadata": {},
   "source": [
    "> Fazendo as agregações: \n",
    "* Colunas de **Vendas Reais, Margem e CMV** foram somadas\n",
    "* Colunas de **Preço  e Porcentagem de Margem** foram calculadas com base na média\n",
    "* Coluna da razão **CMV/QTD** foi retirada uma nova fração entre a coluna CMV e QTD para respeitar a razão entre as grandezas."
   ]
  },
  {
   "cell_type": "code",
   "execution_count": 5,
   "id": "21b43089",
   "metadata": {},
   "outputs": [],
   "source": [
    "### Definindo df_Agg\n",
    "df_agg = df[[\"SAP+NOME\", \"UF\", \"Ano\",\"Mes\", \"Dia\" , \"preço2\", \"Mg %\",\n",
    "                     \"Margem Líquida Real %\", \"Preço\"]]\n",
    "### Definindo df_Agg_sum\n",
    "df_agg_sum = df[[\"SAP+NOME\", \"UF\", \"Mes\", \"Dia\", \"Vendas Reais Qtde\", \"Vendas Reais $\",\n",
    "                     \"Margem Líquida Real $\", \"Venda Líquida Real $\", \"CMV\"]]"
   ]
  },
  {
   "cell_type": "code",
   "execution_count": 6,
   "id": "16f529b2",
   "metadata": {},
   "outputs": [],
   "source": [
    "### Agrupando df_agg por SAP+NOME, UF e Semana e calculando a média\n",
    "df_agg = df_agg.groupby([\"SAP+NOME\", \"UF\", \"Mes\", \"Dia\"]).mean().reset_index()\n",
    "\n",
    "### Agrupando df_Agg_sum por SAP+NOME, UF e Semana e somando as demais variáveis\n",
    "df_agg_sum = df_agg_sum.groupby([\"SAP+NOME\", \"UF\", \"Mes\", \"Dia\"]).sum().reset_index()\n",
    "\n",
    "### Calculando CMV individual\n",
    "df_agg_sum[\"CMV/QTD\"] = df_agg_sum[\"CMV\"] / df_agg_sum[\"Vendas Reais Qtde\"]"
   ]
  },
  {
   "cell_type": "markdown",
   "id": "2f711b96",
   "metadata": {},
   "source": [
    "Unindo os dois *dataframes* de agregação criados para chegar ao *dataset* que será depositado no *Data Lake*"
   ]
  },
  {
   "cell_type": "code",
   "execution_count": 7,
   "id": "89e41298",
   "metadata": {},
   "outputs": [],
   "source": [
    "### Criando df_final como cópia do df_Agg\n",
    "df_final = df_agg.copy()\n",
    "\n",
    "### Fazendo merge entre df_final e df_agg_sum utilizando SAP+NOME, UF e Semana como Chaves\n",
    "df_final = df_final.merge(df_agg_sum, on = [\"SAP+NOME\", \"UF\", \"Mes\", \"Dia\"], how = \"inner\")\n",
    "\n",
    "### Resetando index\n",
    "df_final.reset_index(inplace = True, drop = True)"
   ]
  },
  {
   "cell_type": "markdown",
   "id": "f34a3f87",
   "metadata": {},
   "source": [
    "### Verificação de dados duplicados"
   ]
  },
  {
   "cell_type": "code",
   "execution_count": 8,
   "id": "bc824b22",
   "metadata": {
    "scrolled": true
   },
   "outputs": [
    {
     "data": {
      "text/plain": [
       "False    58864\n",
       "dtype: int64"
      ]
     },
     "execution_count": 8,
     "metadata": {},
     "output_type": "execute_result"
    }
   ],
   "source": [
    "df_final.duplicated(subset=['SAP+NOME', 'UF', 'Mes', 'Dia']).value_counts()"
   ]
  },
  {
   "cell_type": "markdown",
   "id": "812cb1e1",
   "metadata": {},
   "source": [
    "Retirando *P10* e *P90* dos produtos que possuiram variações de preço mais de 10 vezes. Essa agregação foi feita por **Produto** e por **UF** para eliminar os preços promocionais e as sazonalidades de vendas causadas por eles. E para as demais situações de um dado **Produto** ou **UF**, onde o preço não variou mais de 10 vezes, mas, ainda sim, há sazonalidade na quantidade de vendas semanais, também foram removidos os valores menores que *P10*, para remover quantidades insignificantes e *P90*, para remover valores que destoam."
   ]
  },
  {
   "cell_type": "code",
   "execution_count": 9,
   "id": "0edbaa2b",
   "metadata": {
    "scrolled": true
   },
   "outputs": [],
   "source": [
    "lst_uf = df_final[\"UF\"].unique()\n",
    "lst_sap = df_final[\"SAP+NOME\"].unique()\n",
    "\n",
    "for uf in lst_uf:\n",
    "    for sap in lst_sap:\n",
    "        df_seg = df_final.loc[(df_final[\"UF\"] == uf) & (df_final[\"SAP+NOME\"] == sap)].copy()\n",
    "        if df_seg.empty == True:\n",
    "               continue\n",
    "        else:\n",
    "            # Se preço variar mais de 10 vezes, encontraremos o p10 e o p90 de valor e quantidade\n",
    "            if len(df_seg[\"Preço\"].unique()) > 10:\n",
    "                q10_p = np.quantile(df_seg[\"Preço\"].unique(), .10)\n",
    "                q90_p = np.quantile(df_seg[\"Preço\"].unique(), .90)\n",
    "                q_10_qtd = np.quantile(df_seg[\"Vendas Reais Qtde\"], .10)\n",
    "                q_90_qtd = np.quantile(df_seg[\"Vendas Reais Qtde\"], .90)\n",
    "                \n",
    "                # Atribuindo a 'ind', todos os valores que atendem as condições\n",
    "                ind = df_seg.loc[((df_seg[\"Preço\"] < q10_p)  | (df_seg[\"Preço\"] > q90_p)) &\n",
    "                                 ((df_seg[\"Vendas Reais Qtde\"] < q_10_qtd) | (df_seg[\"Vendas Reais Qtde\"] > q_90_qtd))]\n",
    "                \n",
    "                # Dropando index dos valores de 'ind'\n",
    "                df_final = df_final.drop(ind.index)\n",
    "            \n",
    "            # Atribuindo a df_seg o valor de df_final ao final da condição\n",
    "            df_seg = df_final.loc[(df_final[\"UF\"] == uf) & (df_final[\"SAP+NOME\"] == sap)].copy()\n",
    "            \n",
    "            # Pegando o p10 e o p90 da coluna Vendas Reais Qtde\n",
    "            p10 = np.quantile(df_seg[\"Vendas Reais Qtde\"].unique(), .10)\n",
    "            p90 = np.quantile(df_seg[\"Vendas Reais Qtde\"].unique(), .90)\n",
    "            \n",
    "            # Atribuindo a variável ind todos os index que são menores que o p10 e maiores que o p90\n",
    "            ind = df_seg.loc[(df_seg[\"Vendas Reais Qtde\"] < p10)  | (df_seg[\"Vendas Reais Qtde\"] > p90)]\n",
    "            \n",
    "            # Removendo do DF todos os index que foram atribuidos a variável ind\n",
    "            df_final = df_final.drop(ind.index)"
   ]
  },
  {
   "cell_type": "markdown",
   "id": "529318ad",
   "metadata": {},
   "source": [
    "### Ordenando o df final por Ano, Mes, Dia e UF"
   ]
  },
  {
   "cell_type": "code",
   "execution_count": 10,
   "id": "e145a0b9",
   "metadata": {},
   "outputs": [],
   "source": [
    "df_final = df_final.sort_values(by = [\"Ano\", \"Mes\", \"Dia\", \"UF\"]).reset_index(drop = True)"
   ]
  },
  {
   "cell_type": "code",
   "execution_count": 11,
   "id": "0e0f11a5",
   "metadata": {},
   "outputs": [
    {
     "data": {
      "text/html": [
       "<div>\n",
       "<style scoped>\n",
       "    .dataframe tbody tr th:only-of-type {\n",
       "        vertical-align: middle;\n",
       "    }\n",
       "\n",
       "    .dataframe tbody tr th {\n",
       "        vertical-align: top;\n",
       "    }\n",
       "\n",
       "    .dataframe thead th {\n",
       "        text-align: right;\n",
       "    }\n",
       "</style>\n",
       "<table border=\"1\" class=\"dataframe\">\n",
       "  <thead>\n",
       "    <tr style=\"text-align: right;\">\n",
       "      <th></th>\n",
       "      <th>SAP+NOME</th>\n",
       "      <th>UF</th>\n",
       "      <th>Mes</th>\n",
       "      <th>Dia</th>\n",
       "      <th>Ano</th>\n",
       "      <th>preço2</th>\n",
       "      <th>Mg %</th>\n",
       "      <th>Margem Líquida Real %</th>\n",
       "      <th>Preço</th>\n",
       "      <th>Vendas Reais Qtde</th>\n",
       "      <th>Vendas Reais $</th>\n",
       "      <th>Margem Líquida Real $</th>\n",
       "      <th>Venda Líquida Real $</th>\n",
       "      <th>CMV</th>\n",
       "      <th>CMV/QTD</th>\n",
       "    </tr>\n",
       "  </thead>\n",
       "  <tbody>\n",
       "    <tr>\n",
       "      <th>0</th>\n",
       "      <td>000000000004243420 - AMACIANTE COMFORT CONCENT...</td>\n",
       "      <td>AL</td>\n",
       "      <td>1</td>\n",
       "      <td>2</td>\n",
       "      <td>2017.0</td>\n",
       "      <td>7.99</td>\n",
       "      <td>0.407011</td>\n",
       "      <td>40.701149</td>\n",
       "      <td>7.990</td>\n",
       "      <td>12.0</td>\n",
       "      <td>95.88</td>\n",
       "      <td>35.41</td>\n",
       "      <td>87.00</td>\n",
       "      <td>51.59</td>\n",
       "      <td>4.299167</td>\n",
       "    </tr>\n",
       "    <tr>\n",
       "      <th>1</th>\n",
       "      <td>000000000004243420 - AMACIANTE COMFORT CONCENT...</td>\n",
       "      <td>AM</td>\n",
       "      <td>1</td>\n",
       "      <td>2</td>\n",
       "      <td>2017.0</td>\n",
       "      <td>7.99</td>\n",
       "      <td>0.554937</td>\n",
       "      <td>55.493749</td>\n",
       "      <td>7.865</td>\n",
       "      <td>24.0</td>\n",
       "      <td>188.76</td>\n",
       "      <td>104.75</td>\n",
       "      <td>188.76</td>\n",
       "      <td>84.01</td>\n",
       "      <td>3.500417</td>\n",
       "    </tr>\n",
       "    <tr>\n",
       "      <th>2</th>\n",
       "      <td>000000000004243420 - AMACIANTE COMFORT CONCENT...</td>\n",
       "      <td>AP</td>\n",
       "      <td>1</td>\n",
       "      <td>2</td>\n",
       "      <td>2017.0</td>\n",
       "      <td>7.99</td>\n",
       "      <td>0.499373</td>\n",
       "      <td>49.937312</td>\n",
       "      <td>7.990</td>\n",
       "      <td>11.0</td>\n",
       "      <td>87.89</td>\n",
       "      <td>39.83</td>\n",
       "      <td>79.76</td>\n",
       "      <td>39.93</td>\n",
       "      <td>3.630000</td>\n",
       "    </tr>\n",
       "    <tr>\n",
       "      <th>3</th>\n",
       "      <td>000000000004263231 - JG CAMA QUEEN PRATA 150FI...</td>\n",
       "      <td>AP</td>\n",
       "      <td>1</td>\n",
       "      <td>2</td>\n",
       "      <td>2017.0</td>\n",
       "      <td>129.99</td>\n",
       "      <td>0.498731</td>\n",
       "      <td>49.873123</td>\n",
       "      <td>129.990</td>\n",
       "      <td>1.0</td>\n",
       "      <td>129.99</td>\n",
       "      <td>47.17</td>\n",
       "      <td>94.58</td>\n",
       "      <td>47.41</td>\n",
       "      <td>47.410000</td>\n",
       "    </tr>\n",
       "    <tr>\n",
       "      <th>4</th>\n",
       "      <td>000000000002158151 - T VISITA P BORDA DESIRE A...</td>\n",
       "      <td>BA</td>\n",
       "      <td>1</td>\n",
       "      <td>2</td>\n",
       "      <td>2017.0</td>\n",
       "      <td>4.99</td>\n",
       "      <td>0.416721</td>\n",
       "      <td>41.672131</td>\n",
       "      <td>4.190</td>\n",
       "      <td>10.0</td>\n",
       "      <td>41.90</td>\n",
       "      <td>12.71</td>\n",
       "      <td>30.50</td>\n",
       "      <td>17.79</td>\n",
       "      <td>1.779000</td>\n",
       "    </tr>\n",
       "    <tr>\n",
       "      <th>...</th>\n",
       "      <td>...</td>\n",
       "      <td>...</td>\n",
       "      <td>...</td>\n",
       "      <td>...</td>\n",
       "      <td>...</td>\n",
       "      <td>...</td>\n",
       "      <td>...</td>\n",
       "      <td>...</td>\n",
       "      <td>...</td>\n",
       "      <td>...</td>\n",
       "      <td>...</td>\n",
       "      <td>...</td>\n",
       "      <td>...</td>\n",
       "      <td>...</td>\n",
       "      <td>...</td>\n",
       "    </tr>\n",
       "    <tr>\n",
       "      <th>34494</th>\n",
       "      <td>000000000004243420 - AMACIANTE COMFORT CONCENT...</td>\n",
       "      <td>TO</td>\n",
       "      <td>12</td>\n",
       "      <td>31</td>\n",
       "      <td>2017.0</td>\n",
       "      <td>4.99</td>\n",
       "      <td>0.005587</td>\n",
       "      <td>0.558747</td>\n",
       "      <td>4.990</td>\n",
       "      <td>35.0</td>\n",
       "      <td>174.65</td>\n",
       "      <td>0.71</td>\n",
       "      <td>127.07</td>\n",
       "      <td>126.36</td>\n",
       "      <td>3.610286</td>\n",
       "    </tr>\n",
       "    <tr>\n",
       "      <th>34495</th>\n",
       "      <td>000000000004248118 - AMACIANTE DOWNY LIRIOS DO...</td>\n",
       "      <td>TO</td>\n",
       "      <td>12</td>\n",
       "      <td>31</td>\n",
       "      <td>2017.0</td>\n",
       "      <td>6.99</td>\n",
       "      <td>0.178437</td>\n",
       "      <td>17.843683</td>\n",
       "      <td>6.990</td>\n",
       "      <td>12.0</td>\n",
       "      <td>83.88</td>\n",
       "      <td>10.89</td>\n",
       "      <td>61.03</td>\n",
       "      <td>50.14</td>\n",
       "      <td>4.178333</td>\n",
       "    </tr>\n",
       "    <tr>\n",
       "      <th>34496</th>\n",
       "      <td>000000000004261082 - KIT CABIDE C/3 MADEIRA REV</td>\n",
       "      <td>TO</td>\n",
       "      <td>12</td>\n",
       "      <td>31</td>\n",
       "      <td>2017.0</td>\n",
       "      <td>1.99</td>\n",
       "      <td>0.146507</td>\n",
       "      <td>14.650706</td>\n",
       "      <td>10.990</td>\n",
       "      <td>14.0</td>\n",
       "      <td>153.86</td>\n",
       "      <td>16.40</td>\n",
       "      <td>111.94</td>\n",
       "      <td>95.54</td>\n",
       "      <td>6.824286</td>\n",
       "    </tr>\n",
       "    <tr>\n",
       "      <th>34497</th>\n",
       "      <td>000000000004266282 - JG CAMA QUEEN MICROFIBRA ...</td>\n",
       "      <td>TO</td>\n",
       "      <td>12</td>\n",
       "      <td>31</td>\n",
       "      <td>2017.0</td>\n",
       "      <td>49.99</td>\n",
       "      <td>0.277426</td>\n",
       "      <td>27.742645</td>\n",
       "      <td>49.990</td>\n",
       "      <td>2.0</td>\n",
       "      <td>99.98</td>\n",
       "      <td>20.18</td>\n",
       "      <td>72.74</td>\n",
       "      <td>52.56</td>\n",
       "      <td>26.280000</td>\n",
       "    </tr>\n",
       "    <tr>\n",
       "      <th>34498</th>\n",
       "      <td>000000000004269808 - CIF ULTRA RAP BANH S/CLOR...</td>\n",
       "      <td>TO</td>\n",
       "      <td>12</td>\n",
       "      <td>31</td>\n",
       "      <td>2017.0</td>\n",
       "      <td>3.99</td>\n",
       "      <td>0.189003</td>\n",
       "      <td>18.900344</td>\n",
       "      <td>3.990</td>\n",
       "      <td>2.0</td>\n",
       "      <td>7.98</td>\n",
       "      <td>1.10</td>\n",
       "      <td>5.82</td>\n",
       "      <td>4.72</td>\n",
       "      <td>2.360000</td>\n",
       "    </tr>\n",
       "  </tbody>\n",
       "</table>\n",
       "<p>34499 rows × 15 columns</p>\n",
       "</div>"
      ],
      "text/plain": [
       "                                                SAP+NOME  UF  Mes  Dia  \\\n",
       "0      000000000004243420 - AMACIANTE COMFORT CONCENT...  AL    1    2   \n",
       "1      000000000004243420 - AMACIANTE COMFORT CONCENT...  AM    1    2   \n",
       "2      000000000004243420 - AMACIANTE COMFORT CONCENT...  AP    1    2   \n",
       "3      000000000004263231 - JG CAMA QUEEN PRATA 150FI...  AP    1    2   \n",
       "4      000000000002158151 - T VISITA P BORDA DESIRE A...  BA    1    2   \n",
       "...                                                  ...  ..  ...  ...   \n",
       "34494  000000000004243420 - AMACIANTE COMFORT CONCENT...  TO   12   31   \n",
       "34495  000000000004248118 - AMACIANTE DOWNY LIRIOS DO...  TO   12   31   \n",
       "34496    000000000004261082 - KIT CABIDE C/3 MADEIRA REV  TO   12   31   \n",
       "34497  000000000004266282 - JG CAMA QUEEN MICROFIBRA ...  TO   12   31   \n",
       "34498  000000000004269808 - CIF ULTRA RAP BANH S/CLOR...  TO   12   31   \n",
       "\n",
       "          Ano  preço2      Mg %  Margem Líquida Real %    Preço  \\\n",
       "0      2017.0    7.99  0.407011              40.701149    7.990   \n",
       "1      2017.0    7.99  0.554937              55.493749    7.865   \n",
       "2      2017.0    7.99  0.499373              49.937312    7.990   \n",
       "3      2017.0  129.99  0.498731              49.873123  129.990   \n",
       "4      2017.0    4.99  0.416721              41.672131    4.190   \n",
       "...       ...     ...       ...                    ...      ...   \n",
       "34494  2017.0    4.99  0.005587               0.558747    4.990   \n",
       "34495  2017.0    6.99  0.178437              17.843683    6.990   \n",
       "34496  2017.0    1.99  0.146507              14.650706   10.990   \n",
       "34497  2017.0   49.99  0.277426              27.742645   49.990   \n",
       "34498  2017.0    3.99  0.189003              18.900344    3.990   \n",
       "\n",
       "       Vendas Reais Qtde  Vendas Reais $  Margem Líquida Real $  \\\n",
       "0                   12.0           95.88                  35.41   \n",
       "1                   24.0          188.76                 104.75   \n",
       "2                   11.0           87.89                  39.83   \n",
       "3                    1.0          129.99                  47.17   \n",
       "4                   10.0           41.90                  12.71   \n",
       "...                  ...             ...                    ...   \n",
       "34494               35.0          174.65                   0.71   \n",
       "34495               12.0           83.88                  10.89   \n",
       "34496               14.0          153.86                  16.40   \n",
       "34497                2.0           99.98                  20.18   \n",
       "34498                2.0            7.98                   1.10   \n",
       "\n",
       "       Venda Líquida Real $     CMV    CMV/QTD  \n",
       "0                     87.00   51.59   4.299167  \n",
       "1                    188.76   84.01   3.500417  \n",
       "2                     79.76   39.93   3.630000  \n",
       "3                     94.58   47.41  47.410000  \n",
       "4                     30.50   17.79   1.779000  \n",
       "...                     ...     ...        ...  \n",
       "34494                127.07  126.36   3.610286  \n",
       "34495                 61.03   50.14   4.178333  \n",
       "34496                111.94   95.54   6.824286  \n",
       "34497                 72.74   52.56  26.280000  \n",
       "34498                  5.82    4.72   2.360000  \n",
       "\n",
       "[34499 rows x 15 columns]"
      ]
     },
     "execution_count": 11,
     "metadata": {},
     "output_type": "execute_result"
    }
   ],
   "source": [
    "df_final"
   ]
  },
  {
   "cell_type": "markdown",
   "id": "43698bf3",
   "metadata": {},
   "source": [
    "### Gravando df_final como arquivo CSV"
   ]
  },
  {
   "cell_type": "code",
   "execution_count": 12,
   "id": "f6e4bb5f",
   "metadata": {},
   "outputs": [],
   "source": [
    "df_final.to_csv(\"../datasets/df_rpo_v4_2_dia.csv\", index = False)"
   ]
  },
  {
   "cell_type": "code",
   "execution_count": null,
   "id": "58f145b3",
   "metadata": {},
   "outputs": [],
   "source": []
  }
 ],
 "metadata": {
  "kernelspec": {
   "display_name": "Python 3 (ipykernel)",
   "language": "python",
   "name": "python3"
  },
  "language_info": {
   "codemirror_mode": {
    "name": "ipython",
    "version": 3
   },
   "file_extension": ".py",
   "mimetype": "text/x-python",
   "name": "python",
   "nbconvert_exporter": "python",
   "pygments_lexer": "ipython3",
   "version": "3.9.13"
  }
 },
 "nbformat": 4,
 "nbformat_minor": 5
}
