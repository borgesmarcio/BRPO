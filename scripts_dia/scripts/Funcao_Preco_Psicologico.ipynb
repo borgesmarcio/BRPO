{
 "cells": [
  {
   "cell_type": "markdown",
   "id": "d8e2137a",
   "metadata": {},
   "source": [
    "## Aplicação do Preço Psicológico"
   ]
  },
  {
   "cell_type": "markdown",
   "id": "d9534dda",
   "metadata": {},
   "source": [
    "> **Regra Aplicada**: Se o valor de centavos contido em um preço for maior que 50, o preço adotado será arredondado para Int(Preco).90 centavos. De maneira análoga, caso o numéro tenha o valor fracionário(centavos) menor que 50, será arrendodado para o número inteiro imediatamente anterior com a casa fracionária igual a 99. Os preços que possuem fracionário igual a 50, são mantidos."
   ]
  },
  {
   "cell_type": "code",
   "execution_count": 9,
   "id": "f022f925",
   "metadata": {},
   "outputs": [],
   "source": [
    "import pandas as pd\n",
    "from math import modf"
   ]
  },
  {
   "cell_type": "code",
   "execution_count": 4,
   "id": "7d96a22e",
   "metadata": {},
   "outputs": [],
   "source": [
    "df = pd.read_csv((\"../Parte_2_Agregação/df_rpo_v4.csv\"))"
   ]
  },
  {
   "cell_type": "markdown",
   "id": "84b92bea",
   "metadata": {},
   "source": [
    "Definindo a função de Preço Psicológico:"
   ]
  },
  {
   "cell_type": "code",
   "execution_count": 31,
   "id": "0a0ce449",
   "metadata": {},
   "outputs": [],
   "source": [
    "def preco_psico(preco:float):\n",
    "    \"\"\"\n",
    "    Função que recebe o preço predito e aplica o preço psicológico\n",
    "    \"\"\"\n",
    "    cent, real = modf(preco)\n",
    "    cent = round(cent, 2)\n",
    "    if cent > .50:\n",
    "        cent = 0.90\n",
    "        return (real + cent)\n",
    "    else:\n",
    "        real = real - 1\n",
    "        cent = 0.99\n",
    "        return (real + cent)"
   ]
  },
  {
   "cell_type": "code",
   "execution_count": 33,
   "id": "d76c5fb3",
   "metadata": {},
   "outputs": [
    {
     "data": {
      "text/plain": [
       "51.9"
      ]
     },
     "execution_count": 33,
     "metadata": {},
     "output_type": "execute_result"
    }
   ],
   "source": [
    "preco_psico(51.60)"
   ]
  }
 ],
 "metadata": {
  "kernelspec": {
   "display_name": "Python 3 (ipykernel)",
   "language": "python",
   "name": "python3"
  },
  "language_info": {
   "codemirror_mode": {
    "name": "ipython",
    "version": 3
   },
   "file_extension": ".py",
   "mimetype": "text/x-python",
   "name": "python",
   "nbconvert_exporter": "python",
   "pygments_lexer": "ipython3",
   "version": "3.9.13"
  }
 },
 "nbformat": 4,
 "nbformat_minor": 5
}
